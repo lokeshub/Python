{
 "cells": [
  {
   "cell_type": "markdown",
   "metadata": {},
   "source": [
    "<h1> Anagrams"
   ]
  },
  {
   "cell_type": "code",
   "execution_count": 40,
   "metadata": {},
   "outputs": [],
   "source": [
    "def areAnagram(str1, str2):\n",
    "    if len(str1) != len(str2):\n",
    "        return False\n",
    "    \n",
    "    str1Dict = {}\n",
    "    for ch in str1:\n",
    "        print(\"Char: \",ch)\n",
    "        if ch in str1Dict:\n",
    "            str1Dict[ch] = str1Dict[ch] + 1\n",
    "        else:\n",
    "            str1Dict[ch] = 1\n",
    "    print(str1Dict)\n",
    "\n",
    "    str2Dict = {}\n",
    "    for ch in str2:\n",
    "        print(\"Char: \",ch)\n",
    "        if ch in str2Dict:\n",
    "            str2Dict[ch] = str2Dict[ch] + 1\n",
    "        else:\n",
    "            str2Dict[ch] = 1\n",
    "    print(str2Dict)\n",
    "    \n",
    "    if str1Dict == str2Dict:\n",
    "        return True\n",
    "    \n",
    "    return False"
   ]
  },
  {
   "cell_type": "code",
   "execution_count": 41,
   "metadata": {},
   "outputs": [
    {
     "name": "stdout",
     "output_type": "stream",
     "text": [
      "Char:  a\n",
      "Char:   \n",
      "Char:  g\n",
      "Char:  e\n",
      "Char:  n\n",
      "Char:  t\n",
      "Char:  l\n",
      "Char:  e\n",
      "Char:  m\n",
      "Char:  a\n",
      "Char:  n\n",
      "{'a': 2, ' ': 1, 'g': 1, 'e': 2, 'n': 2, 't': 1, 'l': 1, 'm': 1}\n",
      "Char:  e\n",
      "Char:  l\n",
      "Char:  e\n",
      "Char:  g\n",
      "Char:  a\n",
      "Char:  n\n",
      "Char:  t\n",
      "Char:   \n",
      "Char:  m\n",
      "Char:  a\n",
      "Char:  n\n",
      "{'e': 2, 'l': 1, 'g': 1, 'a': 2, 'n': 2, 't': 1, ' ': 1, 'm': 1}\n",
      "True\n"
     ]
    }
   ],
   "source": [
    "print(areAnagram(\"a gentleman\",\"elegant man\"))"
   ]
  },
  {
   "cell_type": "code",
   "execution_count": 42,
   "metadata": {},
   "outputs": [
    {
     "name": "stdout",
     "output_type": "stream",
     "text": [
      "Char:  T\n",
      "Char:  h\n",
      "Char:  e\n",
      "Char:   \n",
      "Char:  e\n",
      "Char:  y\n",
      "Char:  e\n",
      "Char:  s\n",
      "{'T': 1, 'h': 1, 'e': 3, ' ': 1, 'y': 1, 's': 1}\n",
      "Char:  t\n",
      "Char:  h\n",
      "Char:  e\n",
      "Char:  y\n",
      "Char:   \n",
      "Char:  s\n",
      "Char:  e\n",
      "Char:  e\n",
      "{'t': 1, 'h': 1, 'e': 3, 'y': 1, ' ': 1, 's': 1}\n",
      "False\n"
     ]
    }
   ],
   "source": [
    "print(areAnagram(\"The eyes\",\"they see\"))"
   ]
  },
  {
   "cell_type": "code",
   "execution_count": null,
   "metadata": {},
   "outputs": [],
   "source": []
  },
  {
   "cell_type": "code",
   "execution_count": null,
   "metadata": {},
   "outputs": [],
   "source": []
  }
 ],
 "metadata": {
  "kernelspec": {
   "display_name": "Python 3",
   "language": "python",
   "name": "python3"
  },
  "language_info": {
   "codemirror_mode": {
    "name": "ipython",
    "version": 3
   },
   "file_extension": ".py",
   "mimetype": "text/x-python",
   "name": "python",
   "nbconvert_exporter": "python",
   "pygments_lexer": "ipython3",
   "version": "3.8.6"
  }
 },
 "nbformat": 4,
 "nbformat_minor": 4
}
