{
 "cells": [
  {
   "cell_type": "markdown",
   "metadata": {},
   "source": [
    "<h1>Reverse string"
   ]
  },
  {
   "cell_type": "code",
   "execution_count": 68,
   "metadata": {},
   "outputs": [],
   "source": [
    "def rev_str(strToRev):\n",
    "    print(strToRev)\n",
    "    resultStr = \"\"\n",
    "    \n",
    "    i = 1\n",
    "    \n",
    "    while (i < len(strToRev) + 1):\n",
    "        print(i, \"Now geting\", strToRev[-i], \"\\n\")\n",
    "        resultStr = resultStr + strToRev[-i]\n",
    "        i = i + 1\n",
    "    return resultStr"
   ]
  },
  {
   "cell_type": "code",
   "execution_count": 69,
   "metadata": {},
   "outputs": [
    {
     "name": "stdout",
     "output_type": "stream",
     "text": [
      "lokesh\n",
      "1 Now geting h \n",
      "\n",
      "2 Now geting s \n",
      "\n",
      "3 Now geting e \n",
      "\n",
      "4 Now geting k \n",
      "\n",
      "5 Now geting o \n",
      "\n",
      "6 Now geting l \n",
      "\n",
      "hsekol\n"
     ]
    }
   ],
   "source": [
    "new = rev_str(\"lokesh\")\n",
    "print(new)"
   ]
  },
  {
   "cell_type": "markdown",
   "metadata": {},
   "source": [
    "<h5> Python way"
   ]
  },
  {
   "cell_type": "code",
   "execution_count": 70,
   "metadata": {},
   "outputs": [
    {
     "name": "stdout",
     "output_type": "stream",
     "text": [
      "hsekol\n"
     ]
    }
   ],
   "source": [
    "def reverse_str(strToRev):\n",
    "    return strToRev[::-1]\n",
    "\n",
    "old = reverse_str(\"lokesh\")\n",
    "print(old)"
   ]
  },
  {
   "cell_type": "code",
   "execution_count": 1,
   "metadata": {},
   "outputs": [
    {
     "name": "stdout",
     "output_type": "stream",
     "text": [
      "heo\n"
     ]
    }
   ],
   "source": [
    "def rev_str2(strToRev):\n",
    "    return strToRev[::-2] #proves that now we are skipping of -2 from right\n",
    "\n",
    "old = rev_str2(\"lokesh\") \n",
    "print(old)"
   ]
  },
  {
   "cell_type": "code",
   "execution_count": null,
   "metadata": {},
   "outputs": [],
   "source": []
  }
 ],
 "metadata": {
  "kernelspec": {
   "display_name": "Python 3",
   "language": "python",
   "name": "python3"
  },
  "language_info": {
   "codemirror_mode": {
    "name": "ipython",
    "version": 3
   },
   "file_extension": ".py",
   "mimetype": "text/x-python",
   "name": "python",
   "nbconvert_exporter": "python",
   "pygments_lexer": "ipython3",
   "version": "3.8.6"
  }
 },
 "nbformat": 4,
 "nbformat_minor": 4
}
